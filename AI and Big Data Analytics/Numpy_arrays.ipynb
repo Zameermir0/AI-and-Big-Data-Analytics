{
 "cells": [
  {
   "cell_type": "markdown",
   "id": "2da7fd60",
   "metadata": {},
   "source": [
    "# Arrays"
   ]
  },
  {
   "cell_type": "code",
   "execution_count": 1,
   "id": "8e9c0a2a",
   "metadata": {},
   "outputs": [
    {
     "name": "stdout",
     "output_type": "stream",
     "text": [
      "Array =  [1 2 3 4 5 7 7]\n",
      "Dimensions 1\n"
     ]
    }
   ],
   "source": [
    "import numpy as np\n",
    "l = [1,2,3,4,5,7,7]\n",
    "x = np.array(l)\n",
    "print(\"Array = \",x)\n",
    "print(\"Dimensions\",x.ndim)"
   ]
  },
  {
   "cell_type": "code",
   "execution_count": 2,
   "id": "d665ff9a",
   "metadata": {},
   "outputs": [
    {
     "name": "stdout",
     "output_type": "stream",
     "text": [
      "[[2 3 4 5]\n",
      " [2 3 5 6]]\n",
      "2\n"
     ]
    }
   ],
   "source": [
    "z = np.array([[2,3,4,5],[2,3,5,6]])\n",
    "print(z)\n",
    "print(z.ndim)"
   ]
  },
  {
   "cell_type": "code",
   "execution_count": 3,
   "id": "bf831e5b",
   "metadata": {},
   "outputs": [
    {
     "name": "stdout",
     "output_type": "stream",
     "text": [
      "[[[[[[[[[[[[[[[[[[[[[[[[[[[[[[[[2 5 4]\n",
      "                               [2 4 5]\n",
      "                               [3 4 5]]]]]]]]]]]]]]]]]]]]]]]]]]]]]]]]\n",
      "32\n"
     ]
    }
   ],
   "source": [
    "y = np.array([[2,5,4],[2,4,5],[3,4,5]],ndmin = 32)\n",
    "print(y)\n",
    "print(y.ndim)"
   ]
  },
  {
   "cell_type": "markdown",
   "id": "4f491ede",
   "metadata": {},
   "source": [
    "# Zeros"
   ]
  },
  {
   "cell_type": "code",
   "execution_count": 4,
   "id": "eeb49f2c",
   "metadata": {},
   "outputs": [
    {
     "name": "stdout",
     "output_type": "stream",
     "text": [
      "[0. 0.]\n",
      "\n",
      "[[0. 0. 0. 0. 0.]\n",
      " [0. 0. 0. 0. 0.]\n",
      " [0. 0. 0. 0. 0.]\n",
      " [0. 0. 0. 0. 0.]]\n"
     ]
    }
   ],
   "source": [
    "ar_zeros = np.zeros(2)\n",
    "arr_zeros = np.zeros((4,5))\n",
    "\n",
    "print(ar_zeros)\n",
    "print()\n",
    "print(arr_zeros)"
   ]
  },
  {
   "cell_type": "markdown",
   "id": "b06f9d73",
   "metadata": {},
   "source": [
    "# Ones"
   ]
  },
  {
   "cell_type": "code",
   "execution_count": 5,
   "id": "7b461486",
   "metadata": {},
   "outputs": [
    {
     "name": "stdout",
     "output_type": "stream",
     "text": [
      "[1. 1. 1. 1. 1. 1. 1.]\n",
      "\n",
      "[[1. 1. 1. 1. 1. 1. 1.]\n",
      " [1. 1. 1. 1. 1. 1. 1.]\n",
      " [1. 1. 1. 1. 1. 1. 1.]\n",
      " [1. 1. 1. 1. 1. 1. 1.]]\n"
     ]
    }
   ],
   "source": [
    "ar_ones = np.ones(7)\n",
    "arr_ones = np.ones((4,7))\n",
    "\n",
    "print(ar_ones)\n",
    "print()\n",
    "print(arr_ones)"
   ]
  },
  {
   "cell_type": "markdown",
   "id": "ddbe8ba9",
   "metadata": {},
   "source": [
    "# Range\n"
   ]
  },
  {
   "cell_type": "code",
   "execution_count": 6,
   "id": "540a1148",
   "metadata": {},
   "outputs": [
    {
     "name": "stdout",
     "output_type": "stream",
     "text": [
      "[0 1 2 3 4 5]\n"
     ]
    }
   ],
   "source": [
    "ar_range = np.arange(0,6)\n",
    "print(ar_range)"
   ]
  },
  {
   "cell_type": "markdown",
   "id": "fb06266a",
   "metadata": {},
   "source": [
    "\n",
    "# Empty"
   ]
  },
  {
   "cell_type": "code",
   "execution_count": 7,
   "id": "c3edf998",
   "metadata": {},
   "outputs": [
    {
     "name": "stdout",
     "output_type": "stream",
     "text": [
      "[0. 0. 0.]\n"
     ]
    }
   ],
   "source": [
    "arr_empty = np.empty(3)\n",
    "print(arr_empty)"
   ]
  },
  {
   "cell_type": "markdown",
   "id": "851c4481",
   "metadata": {},
   "source": [
    "# Digonal"
   ]
  },
  {
   "cell_type": "code",
   "execution_count": 8,
   "id": "bef2b4b4",
   "metadata": {},
   "outputs": [
    {
     "name": "stdout",
     "output_type": "stream",
     "text": [
      "[[1. 0. 0. 0. 0. 0. 0. 0.]\n",
      " [0. 1. 0. 0. 0. 0. 0. 0.]]\n"
     ]
    }
   ],
   "source": [
    "ar_dia = np.eye(2,8)\n",
    "print(ar_dia)"
   ]
  },
  {
   "cell_type": "markdown",
   "id": "dba2384d",
   "metadata": {},
   "source": [
    "# LinSpace"
   ]
  },
  {
   "cell_type": "code",
   "execution_count": 9,
   "id": "86964cdc",
   "metadata": {},
   "outputs": [
    {
     "name": "stdout",
     "output_type": "stream",
     "text": [
      "[1.         1.05263158 1.10526316 1.15789474 1.21052632 1.26315789\n",
      " 1.31578947 1.36842105 1.42105263 1.47368421 1.52631579 1.57894737\n",
      " 1.63157895 1.68421053 1.73684211 1.78947368 1.84210526 1.89473684\n",
      " 1.94736842 2.        ]\n"
     ]
    }
   ],
   "source": [
    "arr_lin = np.linspace(1,2,num=20)\n",
    "print(arr_lin)"
   ]
  },
  {
   "cell_type": "markdown",
   "id": "fcf3cdd7",
   "metadata": {},
   "source": [
    "# Functions"
   ]
  },
  {
   "cell_type": "code",
   "execution_count": 10,
   "id": "024c9565",
   "metadata": {},
   "outputs": [],
   "source": [
    "#1 rand() :This function is used to generate a random value between 0 to 1\n",
    "#2 randn():This function is used to generate a randomn value close to zero. \n",
    "#This may Retrurn positive or negative numbers as well\n",
    "#3 ranf(): The function for doing random sampling in numpy.it returns an array\n",
    "#of specified shape and fills it with random floats in the half open interval [0.0,1.0)\n",
    "#4 randint(): The function is used to generate a random numbers"
   ]
  },
  {
   "cell_type": "markdown",
   "id": "13cc3522",
   "metadata": {},
   "source": [
    "# Random"
   ]
  },
  {
   "cell_type": "markdown",
   "id": "ef4b0007",
   "metadata": {},
   "source": [
    "# rand()"
   ]
  },
  {
   "cell_type": "code",
   "execution_count": 11,
   "id": "e4d31d23",
   "metadata": {},
   "outputs": [
    {
     "name": "stdout",
     "output_type": "stream",
     "text": [
      "[[0.8814815  0.76623291 0.9763696  0.46449128 0.26161084 0.83288742]\n",
      " [0.974801   0.24092543 0.56859573 0.32980726 0.67892151 0.5658052 ]\n",
      " [0.31416759 0.0178945  0.36052628 0.62559348 0.01908482 0.13934527]\n",
      " [0.75997489 0.63197865 0.65084508 0.10530604 0.19588362 0.00906507]]\n"
     ]
    }
   ],
   "source": [
    "var = np.random.rand(4,6)\n",
    "\n",
    "print(var)"
   ]
  },
  {
   "cell_type": "markdown",
   "id": "32762dc6",
   "metadata": {},
   "source": [
    "# randn()"
   ]
  },
  {
   "cell_type": "code",
   "execution_count": 120,
   "id": "632723ab",
   "metadata": {},
   "outputs": [
    {
     "name": "stdout",
     "output_type": "stream",
     "text": [
      "[[ 0.03532418  0.23616779  0.85715722 -0.72314818  0.28262543 -0.25937687]\n",
      " [-1.54877904  0.87846198  0.77464205  0.40932184 -0.55247737  1.6140525 ]\n",
      " [-0.70311824  1.61300423 -0.6512629  -1.82734054  0.63580365 -0.57815637]]\n"
     ]
    }
   ],
   "source": [
    "var1 = np.random.randn(3,6)\n",
    "print(var1)"
   ]
  },
  {
   "cell_type": "markdown",
   "id": "ee161f67",
   "metadata": {},
   "source": [
    "# ranf()"
   ]
  },
  {
   "cell_type": "code",
   "execution_count": 13,
   "id": "3dbb54d0",
   "metadata": {},
   "outputs": [
    {
     "name": "stdout",
     "output_type": "stream",
     "text": [
      "[0.91551996 0.87518018 0.35724317]\n"
     ]
    }
   ],
   "source": [
    "var2 = np.random.ranf(3)\n",
    "\n",
    "print(var2)\n"
   ]
  },
  {
   "cell_type": "markdown",
   "id": "ce7bf6c7",
   "metadata": {},
   "source": [
    "# randint()"
   ]
  },
  {
   "cell_type": "code",
   "execution_count": 14,
   "id": "d676057e",
   "metadata": {},
   "outputs": [
    {
     "name": "stdout",
     "output_type": "stream",
     "text": [
      "[72 61 65 53 43 42 11 52 29 31 43 12 28 54 23 76 33  2 62 54 13 42 57 55\n",
      " 45 76  5 35 28 30 52 30  5  4 57 57 35 40 29 62 40 50 70 32 76 34 38 17\n",
      "  5  5 25 28 45 59 33 56 10 58 19 25 76  3 63 43 40  3 58 25 15 14 40 28\n",
      " 33 33 19 72 72 20 69 18 69 52  3 47 48 29 16 67 16 66  4 26 20  7 63 33\n",
      " 41 15 49 44 53 24 77  4 30 73 58 56 40 68 48 49 14 73  6 15  9 69 24 66\n",
      " 25  5 70 57 45 29 59  4 41 19 32 66 40 56 30 39 46  7 36 44 17 24 63 45\n",
      " 31 59  5 49 19  4 73 69 11 28 15 39 10 73 37 14 21 39 31 50 59  9 77 29\n",
      " 63  9 34 77 28  6 46  7  9 20 60 16 58 49 54 27 21 14  9 55 30 11 12  5\n",
      " 73 43 39 34 47 64 18 24 70 12 62 54 31 42 41 23 73 51 11 10  6 35 10 61\n",
      " 41 48 45 74 26 19 37 58 50 28 31  4 68 46 46 50 23 47 49 40 56 38 25 13\n",
      " 28 27  2 50 62 65 53 39 49 13 72 15 15 19  9  5 54 41 50 55 26 20 70  7\n",
      " 57 54  9 74 60 14  4 17 43 15 26 76 47 47 48 70  4 61 33 64 67 38 50 45\n",
      " 44 25 51 52 67 63 14 34 18 70  4  6 59 19 46 19 67 22 44 44 68 18 50 56\n",
      " 57 14 14 74 69 55 14 73 37 15 18 32 40 13 30 61 30 33 11 76 10 36 29 30\n",
      "  5 71 55 27 77 25 32 70 15 39  6 31 67 37 63 38 32 64 64 69 17 41 57 52\n",
      " 63 45 59  6 23  3 61 30 23 14 30 54 60 11  6 20 32  5  2 72 48 75 40 29\n",
      " 49 20 29 11 40 23 61 42 30 39 49 40 66 61 20 58 53  5 71 24 13 68  5 61\n",
      " 38 57 33 68  8 10 39  5 13 34 16  3 16 75 70 47 75  2 70 76 41 20 16 57\n",
      " 55 55 30 42 12 55 29 71 68 13 53 18  7 22 18 27 51 32  4 64 38 37 31 47\n",
      " 67 77 61 10 73  2 69  5 68 45 31 43 66 74 15 23  7 20 35  8  9 31 55 31\n",
      "  7 23 49 33 42 68 54 27 39 36 26 46 64 45 69 50 68 31 27 20  2 14  2 36\n",
      " 28 58 57 66 12 25  2 22  5 60 43  9 70 62 74 12 61 32 41 56  9 39 16 34\n",
      " 40 71 19 37 19 72 13 36 60 21 21 27  3 76 68 22  9  9 60  9 46 63 27 24\n",
      "  3  3 70 28 67 48 76 33 74 19 42 23 42 51 60 64 15 58 28 36  2 75 48 40\n",
      " 74 21 57  7 22 43  4 55 34  7 42 46 48 63 11 68 66 58 10 19 64 34 61 49\n",
      " 52 56 32 36 76 71 45 72 72 61 40 19  9 27  7 24 29 63 20 28 21 24 29 63\n",
      "  7 48 65 28 71 39  6 57 57 38 20  8 31 14 22 74 76 29 12  9 21 33 20 69\n",
      " 70 72 56 44 58 23 54 60 71 22 48 69 42 30 62 59 48 73 39 16 18 63 52 34\n",
      " 71 73 50  5 47 74 55 61 51 57 64 37 33 13 68 21 25 50 77 68 50  7 42 47\n",
      " 47 74 34  9 30 20 27 26 46 22 45 44  9 75 18 59 19 13 52 49 62 15  7 67\n",
      " 30 36 73 36  2 50 26 59 10 41 51 49 74  3 58 17 58 23 48 13 48 20 24 70\n",
      " 44 34 47 22 26  5 30 44 52  8 32 39 27 31 50 45 41 51 21 76 43 12 46 19\n",
      " 35 59 13 32  5 67  5 42 25 64 52 27  9 54  6 31 72 22 34 36 66 17  6 77\n",
      " 48 53 61 34 35 67 40 19 47  5 39 67 41 50 10 70 57 39 13 58 55 47 13 20\n",
      " 64 30 31 35 46 73 30 28 33 67  4 24  4 32 55 18 45 14 46 55 47 63  7 33\n",
      " 47 35 12 52 28 72 38 55 13 47 50 62 74 64 23 77 33 16 29 47  5 74 60 17\n",
      " 44 32 21 36 34 68 61 49 44 53 16 61 73 12 72 62 47 67 40 31 21 74 25 32\n",
      "  8 21 59 33 72 63  6 13 29 19 65  5 35 15 28 45 34 14 76 19  8 17 32 58\n",
      " 54 22 73 60 36 32 38 19 17  8  2 27 71 54 62 68 15 46 32 38 51 20 41 63\n",
      "  6 65  3 55 70 24 75 63 13 69 46 20 49 29 53 52 44 20 20 13 20 16 14 47\n",
      " 68 42 67 39 36 70 11 77 19 50  9 40 61 21 30 50 47 40 77 20 67  2 48 64\n",
      " 11 31 77 55 27 58 50 28 35 77 52 43 50 59  8]\n"
     ]
    }
   ],
   "source": [
    "var3 = np.random.randint(2,78,999)\n",
    "\n",
    "print(var3)"
   ]
  },
  {
   "cell_type": "code",
   "execution_count": 15,
   "id": "7f6b6a50",
   "metadata": {},
   "outputs": [
    {
     "name": "stdout",
     "output_type": "stream",
     "text": [
      "[0. 0. 0.]\n",
      "[[0. 0. 0. 0. 0. 0.]\n",
      " [0. 0. 0. 0. 0. 0.]\n",
      " [0. 0. 0. 0. 0. 0.]\n",
      " [0. 0. 0. 0. 0. 0.]]\n"
     ]
    }
   ],
   "source": [
    "x = np.zeros(3)\n",
    "z = np.zeros((4,6))\n",
    "print(x)\n",
    "\n",
    "print(z)"
   ]
  },
  {
   "cell_type": "code",
   "execution_count": 16,
   "id": "88c8807a",
   "metadata": {},
   "outputs": [
    {
     "name": "stdout",
     "output_type": "stream",
     "text": [
      "[1. 1. 1. 1. 1. 1.] \n",
      "\n",
      "[[1. 1. 1. 1. 1. 1. 1.]\n",
      " [1. 1. 1. 1. 1. 1. 1.]\n",
      " [1. 1. 1. 1. 1. 1. 1.]\n",
      " [1. 1. 1. 1. 1. 1. 1.]\n",
      " [1. 1. 1. 1. 1. 1. 1.]]\n"
     ]
    }
   ],
   "source": [
    "a = np.ones(6)\n",
    "print(a,\"\\n\")\n",
    "b = np.ones((5,7))\n",
    "print(b)"
   ]
  },
  {
   "cell_type": "code",
   "execution_count": 17,
   "id": "8f941db5",
   "metadata": {},
   "outputs": [
    {
     "name": "stdout",
     "output_type": "stream",
     "text": [
      "[1. 1. 1. 1. 1. 1.]\n"
     ]
    }
   ],
   "source": [
    "c = np.empty(6)\n",
    "\n",
    "print(c)"
   ]
  },
  {
   "cell_type": "code",
   "execution_count": 18,
   "id": "6ff51eac",
   "metadata": {},
   "outputs": [
    {
     "name": "stdout",
     "output_type": "stream",
     "text": [
      "[[1. 0. 0. 0. 0.]\n",
      " [0. 1. 0. 0. 0.]\n",
      " [0. 0. 1. 0. 0.]\n",
      " [0. 0. 0. 1. 0.]\n",
      " [0. 0. 0. 0. 1.]]\n",
      "[[1. 0. 0. 0. 0. 0. 0.]\n",
      " [0. 1. 0. 0. 0. 0. 0.]\n",
      " [0. 0. 1. 0. 0. 0. 0.]\n",
      " [0. 0. 0. 1. 0. 0. 0.]\n",
      " [0. 0. 0. 0. 1. 0. 0.]\n",
      " [0. 0. 0. 0. 0. 1. 0.]]\n"
     ]
    }
   ],
   "source": [
    "d = np.eye(5)\n",
    "e = np.eye(6,7)\n",
    "\n",
    "print(d)\n",
    "\n",
    "print(e)"
   ]
  },
  {
   "cell_type": "code",
   "execution_count": 19,
   "id": "b80acd49",
   "metadata": {},
   "outputs": [
    {
     "name": "stdout",
     "output_type": "stream",
     "text": [
      "[3 5]\n"
     ]
    }
   ],
   "source": [
    "f = np.arange(3,7,2)\n",
    "print(f)"
   ]
  },
  {
   "cell_type": "code",
   "execution_count": 20,
   "id": "e235e1c9",
   "metadata": {},
   "outputs": [
    {
     "name": "stdout",
     "output_type": "stream",
     "text": [
      "[[0.81127909 0.49858931 0.26683081 0.58271395 0.87535003 0.57313424]\n",
      " [0.79717311 0.57328288 0.23384172 0.11971984 0.49918791 0.65088854]\n",
      " [0.89519774 0.32720076 0.3311332  0.23247596 0.34153602 0.52604098]\n",
      " [0.57103235 0.23473297 0.67476614 0.49917267 0.3959806  0.84758711]\n",
      " [0.37130875 0.18318527 0.16589017 0.81798366 0.04585094 0.30462362]\n",
      " [0.50709811 0.60477194 0.04172544 0.17820184 0.72668889 0.87059831]]\n"
     ]
    }
   ],
   "source": [
    "g = np.random.rand(6,6)\n",
    "\n",
    "print(g)"
   ]
  },
  {
   "cell_type": "code",
   "execution_count": 21,
   "id": "ba79d175",
   "metadata": {},
   "outputs": [
    {
     "name": "stdout",
     "output_type": "stream",
     "text": [
      "[[-0.71426852 -2.31693617  2.35586664  0.26644258 -0.97760453 -0.20312814\n",
      "   1.08768743]\n",
      " [-1.53818626 -1.36566334  0.74685187  0.34622814  1.01213826 -1.43030114\n",
      "  -0.53360646]\n",
      " [-0.73428014 -1.07891272  0.02122594 -0.23942977 -1.85899421  0.47672598\n",
      "   2.57127714]\n",
      " [-1.13016612  0.96562061 -0.76989674  1.17791578 -1.96437812 -0.64239115\n",
      "   0.907118  ]]\n"
     ]
    }
   ],
   "source": [
    "h = np.random.randn(4,7)\n",
    "\n",
    "print(h)"
   ]
  },
  {
   "cell_type": "code",
   "execution_count": 22,
   "id": "99c07068",
   "metadata": {},
   "outputs": [
    {
     "name": "stdout",
     "output_type": "stream",
     "text": [
      "[0.3680692  0.67549887 0.88765226]\n"
     ]
    }
   ],
   "source": [
    "i = np.random.ranf(3)\n",
    "\n",
    "print(i)"
   ]
  },
  {
   "cell_type": "code",
   "execution_count": 23,
   "id": "4f0973b3",
   "metadata": {},
   "outputs": [
    {
     "name": "stdout",
     "output_type": "stream",
     "text": [
      "[5 5 2 6 3 6]\n"
     ]
    }
   ],
   "source": [
    "j = np.random.randint(2,7,6)\n",
    "\n",
    "print(j)"
   ]
  },
  {
   "cell_type": "markdown",
   "id": "393f733d",
   "metadata": {},
   "source": [
    "# Arrays"
   ]
  },
  {
   "cell_type": "code",
   "execution_count": 24,
   "id": "a7433177",
   "metadata": {},
   "outputs": [
    {
     "name": "stdout",
     "output_type": "stream",
     "text": [
      "[2. 3. 4. 5. 6. 7.]\n",
      "float32\n"
     ]
    }
   ],
   "source": [
    "x = np.array([2,3,4,5,6,7],dtype = 'f')\n",
    "print(x)\n",
    "print(x.dtype)"
   ]
  },
  {
   "cell_type": "code",
   "execution_count": 25,
   "id": "3f91edd1",
   "metadata": {},
   "outputs": [
    {
     "name": "stdout",
     "output_type": "stream",
     "text": [
      "[2.+0.j 3.+0.j 4.+0.j 5.+0.j 6.+0.j 7.+0.j]\n"
     ]
    }
   ],
   "source": [
    "x1 = np.array([2,3,4,5,6,7])\n",
    "print(np.complex64(x1))"
   ]
  },
  {
   "cell_type": "markdown",
   "id": "f859094a",
   "metadata": {},
   "source": [
    "# Arithematic Operations"
   ]
  },
  {
   "cell_type": "code",
   "execution_count": 26,
   "id": "463db58b",
   "metadata": {},
   "outputs": [],
   "source": [
    "x2 = np.array([2,3,4,5,6,7])\n"
   ]
  },
  {
   "cell_type": "code",
   "execution_count": 27,
   "id": "9af57613",
   "metadata": {},
   "outputs": [
    {
     "name": "stdout",
     "output_type": "stream",
     "text": [
      "[ 5  6  7  8  9 10]\n"
     ]
    }
   ],
   "source": [
    "x3  = x2+3\n",
    "print(x3)"
   ]
  },
  {
   "cell_type": "code",
   "execution_count": 28,
   "id": "3a72a31e",
   "metadata": {},
   "outputs": [
    {
     "name": "stdout",
     "output_type": "stream",
     "text": [
      "[ 7  9 11 13 15 17]\n"
     ]
    }
   ],
   "source": [
    "x4 = x3+x2\n",
    "print(x4)"
   ]
  },
  {
   "cell_type": "code",
   "execution_count": 29,
   "id": "e3bcd760",
   "metadata": {},
   "outputs": [
    {
     "name": "stdout",
     "output_type": "stream",
     "text": [
      "[  8  27  64 125 216 343]\n"
     ]
    }
   ],
   "source": [
    "var1 = np.array([2,3,4,5,6,7])\n",
    "\n",
    "var2 = var1**3\n",
    "\n",
    "print(var2)"
   ]
  },
  {
   "cell_type": "code",
   "execution_count": 30,
   "id": "d881e579",
   "metadata": {},
   "outputs": [],
   "source": [
    "var4 = var1*2"
   ]
  },
  {
   "cell_type": "code",
   "execution_count": 31,
   "id": "873596ad",
   "metadata": {},
   "outputs": [
    {
     "data": {
      "text/plain": [
       "array([ 4,  6,  8, 10, 12, 14])"
      ]
     },
     "execution_count": 31,
     "metadata": {},
     "output_type": "execute_result"
    }
   ],
   "source": [
    "var4"
   ]
  },
  {
   "cell_type": "code",
   "execution_count": 32,
   "id": "4c66c314",
   "metadata": {},
   "outputs": [
    {
     "name": "stdout",
     "output_type": "stream",
     "text": [
      "[0.5        0.33333333 0.25       0.2        0.16666667 0.14285714]\n"
     ]
    }
   ],
   "source": [
    "var4 = 1/var1\n",
    "\n",
    "print(var4)"
   ]
  },
  {
   "cell_type": "code",
   "execution_count": 33,
   "id": "ee932a97",
   "metadata": {},
   "outputs": [
    {
     "name": "stdout",
     "output_type": "stream",
     "text": [
      "[[ 4  7  7 10]\n",
      " [ 9  7  9 15]]\n",
      "(2, 4)\n"
     ]
    }
   ],
   "source": [
    "a = np.array([[2,3,4,5],[4,3,6,7]])\n",
    "b = np.array([[2,4,3,5],[5,4,3,8]])\n",
    "\n",
    "c = np.add(a,b)\n",
    "print(c)\n",
    "print(c.shape)"
   ]
  },
  {
   "cell_type": "code",
   "execution_count": 34,
   "id": "8a0f93eb",
   "metadata": {},
   "outputs": [
    {
     "name": "stdout",
     "output_type": "stream",
     "text": [
      "[[ 4 12 12 25]\n",
      " [20 12 18 56]]\n"
     ]
    }
   ],
   "source": [
    "d = a*b\n",
    "print(d)"
   ]
  },
  {
   "cell_type": "code",
   "execution_count": 35,
   "id": "c5155be0",
   "metadata": {},
   "outputs": [
    {
     "name": "stdout",
     "output_type": "stream",
     "text": [
      "[[0 0 0 0]\n",
      " [0 0 0 0]]\n"
     ]
    }
   ],
   "source": [
    "e = np.reciprocal(d)\n",
    "\n",
    "print(e)"
   ]
  },
  {
   "cell_type": "markdown",
   "id": "1ca06311",
   "metadata": {},
   "source": [
    "# Arithematic Function"
   ]
  },
  {
   "cell_type": "code",
   "execution_count": 36,
   "id": "ff5a5986",
   "metadata": {},
   "outputs": [
    {
     "name": "stdout",
     "output_type": "stream",
     "text": [
      "Maximum Element in an Array  =  63 At index  5\n",
      "Minimum Element in an Array  =  1 At index 2\n",
      "Square_Root Element of an Array  =  [1.41421356 2.         1.         2.23606798 2.64575131 7.93725393\n",
      " 7.54983444 5.91607978]\n",
      "[  2   6   7  12  19  82 139 174]\n",
      "[ 0.90929743 -0.7568025   0.84147098 -0.95892427  0.6569866   0.1673557\n",
      "  0.43616476 -0.42818267]\n",
      "[-0.41614684 -0.65364362  0.54030231  0.28366219  0.75390225  0.98589658\n",
      "  0.89986683 -0.90369221]\n"
     ]
    }
   ],
   "source": [
    "#1D Array\n",
    "arr = np.array([2,4,1,5,7,63,57,35])\n",
    "\n",
    "print(\"Maximum Element in an Array  = \",arr.max(),\"At index \",arr.argmax())\n",
    "\n",
    "print(\"Minimum Element in an Array  = \",arr.min(),\"At index\",arr.argmin())\n",
    "\n",
    "print(\"Square_Root Element of an Array  = \",np.sqrt(arr))\n",
    "print(np.cumsum(arr))\n",
    "print(np.sin(arr))\n",
    "print(np.cos(arr))"
   ]
  },
  {
   "cell_type": "code",
   "execution_count": 37,
   "id": "4df84e3c",
   "metadata": {},
   "outputs": [
    {
     "name": "stdout",
     "output_type": "stream",
     "text": [
      "[[2 3 4 5 6]\n",
      " [3 4 5 6 7]\n",
      " [4 5 6 7 7]]\n",
      "Minimum element in every column =  [2 3 4 5 6]\n",
      "Maximum element in every row =  [6 7 7]\n",
      "[ 2  5  9 14 20 23 27 32 38 45 49 54 60 67 74]\n",
      "\n",
      "[[ 0.90929743  0.14112001 -0.7568025  -0.95892427 -0.2794155 ]\n",
      " [ 0.14112001 -0.7568025  -0.95892427 -0.2794155   0.6569866 ]\n",
      " [-0.7568025  -0.95892427 -0.2794155   0.6569866   0.6569866 ]]\n",
      "\n",
      "[[-0.41614684 -0.9899925  -0.65364362  0.28366219  0.96017029]\n",
      " [-0.9899925  -0.65364362  0.28366219  0.96017029  0.75390225]\n",
      " [-0.65364362  0.28366219  0.96017029  0.75390225  0.75390225]]\n",
      "Square_Root Element of an Array  =  [[1.41421356 1.73205081 2.         2.23606798 2.44948974]\n",
      " [1.73205081 2.         2.23606798 2.44948974 2.64575131]\n",
      " [2.         2.23606798 2.44948974 2.64575131 2.64575131]]\n"
     ]
    }
   ],
   "source": [
    "#2D Array\n",
    "ar = np.array([[2,3,4,5,6,],[3,4,5,6,7],[4,5,6,7,7]])\n",
    "print(ar)\n",
    "print(\"Minimum element in every column = \",np.min(ar,axis = 0))#if axis is 0 it will check column wise\n",
    "print(\"Maximum element in every row = \",np.max(ar,axis = 1))#if axis is 1 it will check Row wise\n",
    "\n",
    "print(np.cumsum(ar))\n",
    "print(\"\")\n",
    "print(np.sin(ar))\n",
    "print(\"\")\n",
    "print(np.cos(ar))\n",
    "print(\"Square_Root Element of an Array  = \",np.sqrt(ar))"
   ]
  },
  {
   "cell_type": "markdown",
   "id": "56c209fb",
   "metadata": {},
   "source": [
    "# Shape and Reshape"
   ]
  },
  {
   "cell_type": "code",
   "execution_count": 38,
   "id": "bee8328e",
   "metadata": {},
   "outputs": [
    {
     "name": "stdout",
     "output_type": "stream",
     "text": [
      "(12,)\n",
      "3\n",
      "[[[ 1  2]\n",
      "  [ 3  4]]\n",
      "\n",
      " [[ 5  6]\n",
      "  [ 7  8]]\n",
      "\n",
      " [[ 9 10]\n",
      "  [11 12]]]\n"
     ]
    }
   ],
   "source": [
    "arr = np.array([1,2,3,4,5,6,7,8,9,10,11,12])\n",
    "\n",
    "print(arr.shape)\n",
    "arr1 = arr.reshape(3,2,2)\n",
    "print(arr1.ndim)\n",
    "print(arr1)"
   ]
  },
  {
   "cell_type": "code",
   "execution_count": 39,
   "id": "24127622",
   "metadata": {},
   "outputs": [
    {
     "name": "stdout",
     "output_type": "stream",
     "text": [
      "1\n",
      "[[2 3]\n",
      " [4 5]\n",
      " [6 7]\n",
      " [7 4]]\n"
     ]
    }
   ],
   "source": [
    "z = np.array([2,3,4,5,6,7,7,4])\n",
    "\n",
    "print(z.ndim)\n",
    "\n",
    "y = z.reshape(4,2)\n",
    "print(y)"
   ]
  },
  {
   "cell_type": "code",
   "execution_count": 40,
   "id": "c5130d22",
   "metadata": {},
   "outputs": [
    {
     "name": "stdout",
     "output_type": "stream",
     "text": [
      "[[4 5 6]\n",
      " [5 6 7]\n",
      " [7 8 9]]\n"
     ]
    }
   ],
   "source": [
    "x1  =  np.array([2,3,4])\n",
    "x2 = np.array([[2],[3],[5]])\n",
    "print(x1+x2)"
   ]
  },
  {
   "cell_type": "code",
   "execution_count": 41,
   "id": "db6a45ec",
   "metadata": {},
   "outputs": [
    {
     "name": "stdout",
     "output_type": "stream",
     "text": [
      "[[ 4  9 11 12]\n",
      " [ 6 11 12 12]\n",
      " [ 5 11 13 12]]\n"
     ]
    }
   ],
   "source": [
    "x3 = np.array([2,6,7,8])\n",
    "x4 = np.array([[2,3,4,4],[4,5,5,4],[3,5,6,4]])\n",
    "\n",
    "print(x3+x4)"
   ]
  },
  {
   "cell_type": "markdown",
   "id": "40fbf002",
   "metadata": {},
   "source": [
    "# Indexing"
   ]
  },
  {
   "cell_type": "code",
   "execution_count": 42,
   "id": "6cbe28da",
   "metadata": {},
   "outputs": [
    {
     "name": "stdout",
     "output_type": "stream",
     "text": [
      "[2 3 4 5 6]\n",
      "5\n",
      "5\n"
     ]
    }
   ],
   "source": [
    "#1D\n",
    "z = np.array([2,3,4,5,6])\n",
    "              #0,1,2,3,4 positive indexing\n",
    "            #-5,-4,-3,-2,-1 negative indexing\n",
    "print(z)\n",
    "\n",
    "print(z[3])\n",
    "print(z[-2])"
   ]
  },
  {
   "cell_type": "code",
   "execution_count": 43,
   "id": "da769428",
   "metadata": {},
   "outputs": [
    {
     "name": "stdout",
     "output_type": "stream",
     "text": [
      "2\n",
      "[[1 2 3]\n",
      " [4 5 6]\n",
      " [7 8 9]]\n",
      "7\n",
      "[[2 3]\n",
      " [5 6]\n",
      " [8 9]]\n"
     ]
    }
   ],
   "source": [
    "#2D\n",
    "za = np.array([[1,2,3],[4,5,6],[7,8,9]])\n",
    "\n",
    "print(np.ndim(za))\n",
    "print(za)\n",
    "print(za[2,0])\n",
    "print(za[0:4,1:4])"
   ]
  },
  {
   "cell_type": "code",
   "execution_count": 44,
   "id": "0926d1ae",
   "metadata": {},
   "outputs": [
    {
     "name": "stdout",
     "output_type": "stream",
     "text": [
      "[[[[ 2  3  5]\n",
      "   [10  6  8]]\n",
      "\n",
      "  [[ 7  9  1]\n",
      "   [ 2  3  4]]\n",
      "\n",
      "  [[11 12 13]\n",
      "   [ 2  3  4]]]]\n",
      "13\n"
     ]
    }
   ],
   "source": [
    "#3D\n",
    "zam = np.array([[[[2,3,5],[10,6,8]],[[7,9,1],[2,3,4]],[[11,12,13],[2,3,4]]]])\n",
    "print(zam)\n",
    "print(zam[0,2,0,2])"
   ]
  },
  {
   "cell_type": "code",
   "execution_count": 45,
   "id": "6c3ed8d9",
   "metadata": {},
   "outputs": [
    {
     "name": "stdout",
     "output_type": "stream",
     "text": [
      "[[  2   3   4   5   6   7]\n",
      " [ 10  98   6  44  34 345]\n",
      " [ 43  54  54  33  64  54]]\n",
      "44\n",
      "\n",
      "[[ 98  44 345]\n",
      " [ 54  33  54]]\n"
     ]
    }
   ],
   "source": [
    "teh = np.array([[2,3,4,5,6,7],[10,98,6,44,34,345],[43,54,54,33,64,54]])\n",
    "\n",
    "print(teh)\n",
    "print(teh[1,3])\n",
    "\n",
    "print()\n",
    "print(teh[1:,1::2])"
   ]
  },
  {
   "cell_type": "markdown",
   "id": "f09a2bba",
   "metadata": {},
   "source": [
    "# Iteration Numpy Arrays"
   ]
  },
  {
   "cell_type": "code",
   "execution_count": 46,
   "id": "8d3d179a",
   "metadata": {},
   "outputs": [
    {
     "name": "stdout",
     "output_type": "stream",
     "text": [
      "[1 2 3 4 5 6 7 8 9 0]\n",
      "\n",
      "1\n",
      "2\n",
      "3\n",
      "4\n",
      "5\n",
      "6\n",
      "7\n",
      "8\n",
      "9\n",
      "0\n"
     ]
    }
   ],
   "source": [
    "var = np.array([1,2,3,4,5,6,7,8,9,0])\n",
    "print(var)\n",
    "print()\n",
    "for i in var:\n",
    "    print(i)"
   ]
  },
  {
   "cell_type": "code",
   "execution_count": 47,
   "id": "42ae1f43",
   "metadata": {},
   "outputs": [
    {
     "name": "stdout",
     "output_type": "stream",
     "text": [
      "[1 2 3 4 5 6 7 8 9 0]\n",
      "\n",
      "1\n",
      "2\n",
      "3\n",
      "4\n",
      "5\n",
      "6\n",
      "7\n",
      "8\n",
      "9\n",
      "0\n"
     ]
    }
   ],
   "source": [
    "var = np.array([1,2,3,4,5,6,7,8,9,0])\n",
    "print(var)\n",
    "print()\n",
    "for i in np.nditer(var):#nditer iterate as dimensions\n",
    "    print(i)"
   ]
  },
  {
   "cell_type": "code",
   "execution_count": 48,
   "id": "2283a080",
   "metadata": {},
   "outputs": [
    {
     "name": "stdout",
     "output_type": "stream",
     "text": [
      "[1 2 3 4 5 6 7 8 9 0]\n",
      "\n",
      "((0,), 1)\n",
      "((1,), 2)\n",
      "((2,), 3)\n",
      "((3,), 4)\n",
      "((4,), 5)\n",
      "((5,), 6)\n",
      "((6,), 7)\n",
      "((7,), 8)\n",
      "((8,), 9)\n",
      "((9,), 0)\n"
     ]
    }
   ],
   "source": [
    "var = np.array([1,2,3,4,5,6,7,8,9,0])\n",
    "print(var)\n",
    "print()\n",
    "for i in np.ndenumerate(var):#ndenemurate iterate with index\n",
    "    print(i)"
   ]
  },
  {
   "cell_type": "code",
   "execution_count": 49,
   "id": "081ce1ae",
   "metadata": {},
   "outputs": [
    {
     "name": "stdout",
     "output_type": "stream",
     "text": [
      "[[  2   3   4   5   6   7]\n",
      " [  2   3   4  22   4  22]\n",
      " [ 54 223  45  75  75  54]]\n",
      "\n",
      "2\n",
      "3\n",
      "4\n",
      "5\n",
      "6\n",
      "7\n",
      "2\n",
      "3\n",
      "4\n",
      "22\n",
      "4\n",
      "22\n",
      "54\n",
      "223\n",
      "45\n",
      "75\n",
      "75\n",
      "54\n"
     ]
    }
   ],
   "source": [
    "var1 = np.array([[2,3,4,5,6,7],[2,3,4,22,4,22],[54,223,45,75,75,54]])\n",
    "print(var1)\n",
    "print()\n",
    "for i in var1:\n",
    "    for j in i:\n",
    "       print(j)"
   ]
  },
  {
   "cell_type": "code",
   "execution_count": 50,
   "id": "84995b0f",
   "metadata": {},
   "outputs": [
    {
     "name": "stdout",
     "output_type": "stream",
     "text": [
      "[[  2   3   4   5   6   7]\n",
      " [  2   3   4  22   4  22]\n",
      " [ 54 223  45  75  75  54]]\n",
      "\n",
      "2\n",
      "3\n",
      "4\n",
      "5\n",
      "6\n",
      "7\n",
      "2\n",
      "3\n",
      "4\n",
      "22\n",
      "4\n",
      "22\n",
      "54\n",
      "223\n",
      "45\n",
      "75\n",
      "75\n",
      "54\n"
     ]
    }
   ],
   "source": [
    "var1 = np.array([[2,3,4,5,6,7],[2,3,4,22,4,22],[54,223,45,75,75,54]])\n",
    "print(var1)\n",
    "print()\n",
    "for i in np.nditer(var1):\n",
    "    print(i)\n"
   ]
  },
  {
   "cell_type": "code",
   "execution_count": 51,
   "id": "e7f65b13",
   "metadata": {},
   "outputs": [
    {
     "name": "stdout",
     "output_type": "stream",
     "text": [
      "[[  2   3   4   5   6   7]\n",
      " [  2   3   4  22   4  22]\n",
      " [ 54 223  45  75  75  54]]\n",
      "\n",
      "((0, 0), 2)\n",
      "((0, 1), 3)\n",
      "((0, 2), 4)\n",
      "((0, 3), 5)\n",
      "((0, 4), 6)\n",
      "((0, 5), 7)\n",
      "((1, 0), 2)\n",
      "((1, 1), 3)\n",
      "((1, 2), 4)\n",
      "((1, 3), 22)\n",
      "((1, 4), 4)\n",
      "((1, 5), 22)\n",
      "((2, 0), 54)\n",
      "((2, 1), 223)\n",
      "((2, 2), 45)\n",
      "((2, 3), 75)\n",
      "((2, 4), 75)\n",
      "((2, 5), 54)\n"
     ]
    }
   ],
   "source": [
    "var1 = np.array([[2,3,4,5,6,7],[2,3,4,22,4,22],[54,223,45,75,75,54]])\n",
    "print(var1)\n",
    "print()\n",
    "   \n",
    "for j in np.ndenumerate(var1):\n",
    "    print(j)"
   ]
  },
  {
   "cell_type": "code",
   "execution_count": 52,
   "id": "afb29570",
   "metadata": {},
   "outputs": [
    {
     "name": "stdout",
     "output_type": "stream",
     "text": [
      "[[[2 3 4 5 6 7]]\n",
      "\n",
      " [[2 3 4 5 6 7]]]\n",
      "\n",
      "2\n",
      "3\n",
      "4\n",
      "5\n",
      "6\n",
      "7\n",
      "2\n",
      "3\n",
      "4\n",
      "5\n",
      "6\n",
      "7\n"
     ]
    }
   ],
   "source": [
    "var2 = np.array([[[2,3,4,5,6,7]],[[2,3,4,5,6,7]]])\n",
    "print(var2)\n",
    "print()\n",
    "for i in var2:\n",
    "    for j in i:\n",
    "        for k in j:\n",
    "            print(k)"
   ]
  },
  {
   "cell_type": "code",
   "execution_count": 53,
   "id": "1c1d87ee",
   "metadata": {},
   "outputs": [
    {
     "name": "stdout",
     "output_type": "stream",
     "text": [
      "[[[2 3 4 5 6 7]]\n",
      "\n",
      " [[2 3 4 5 6 7]]]\n",
      "\n",
      "(0, 0, 0)  =  2\n",
      "(0, 0, 1)  =  3\n",
      "(0, 0, 2)  =  4\n",
      "(0, 0, 3)  =  5\n",
      "(0, 0, 4)  =  6\n",
      "(0, 0, 5)  =  7\n",
      "(1, 0, 0)  =  2\n",
      "(1, 0, 1)  =  3\n",
      "(1, 0, 2)  =  4\n",
      "(1, 0, 3)  =  5\n",
      "(1, 0, 4)  =  6\n",
      "(1, 0, 5)  =  7\n"
     ]
    }
   ],
   "source": [
    "var2 = np.array([[[2,3,4,5,6,7]],[[2,3,4,5,6,7]]])\n",
    "print(var2)\n",
    "print()\n",
    "for i ,d in np.ndenumerate(var2):\n",
    "    print(i,\" = \", d)"
   ]
  },
  {
   "cell_type": "markdown",
   "id": "2860af38",
   "metadata": {},
   "source": [
    "# Copy VS View"
   ]
  },
  {
   "cell_type": "code",
   "execution_count": 54,
   "id": "7e24fa7c",
   "metadata": {},
   "outputs": [],
   "source": [
    "#1  Copy:The copy owns the data\n",
    "#The copy of an array is a new array\n",
    "#The changes made in the copy data does not reflects in the original data\n",
    "\n",
    "#2   View: The View Does not owns the data\n",
    "#A view of the original array\n",
    "#Any changes made to the view will affet the original array,and any changes\n",
    "#made to the original may will affect the view"
   ]
  },
  {
   "cell_type": "code",
   "execution_count": 55,
   "id": "98cded92",
   "metadata": {},
   "outputs": [
    {
     "name": "stdout",
     "output_type": "stream",
     "text": [
      "Original:  [ 1 90  3  4  5]\n",
      "Copy:  [1 2 3 4 5]\n"
     ]
    }
   ],
   "source": [
    "var = np.array([1,2,3,4,5])\n",
    "var2 = var.copy()\n",
    "var[1]=90\n",
    "print(\"Original: \",var)\n",
    "print(\"Copy: \",var2)"
   ]
  },
  {
   "cell_type": "code",
   "execution_count": 56,
   "id": "04f3ae17",
   "metadata": {},
   "outputs": [
    {
     "name": "stdout",
     "output_type": "stream",
     "text": [
      "Original:  [  1   2   3   4 100]\n",
      "View:  [  1   2   3   4 100]\n"
     ]
    }
   ],
   "source": [
    "var3 = np.array([1,2,3,4,5])\n",
    "var4 = var3.view()\n",
    "var3[4]=100\n",
    "print(\"Original: \",var3)\n",
    "print(\"View: \",var4)\n"
   ]
  },
  {
   "cell_type": "markdown",
   "id": "c6249a30",
   "metadata": {},
   "source": [
    "# Join Arrays"
   ]
  },
  {
   "cell_type": "code",
   "execution_count": 57,
   "id": "fd61c440",
   "metadata": {},
   "outputs": [
    {
     "name": "stdout",
     "output_type": "stream",
     "text": [
      "[2 3 4 5 6 1 9 8 7 6]\n"
     ]
    }
   ],
   "source": [
    "a_1  = np.array([2,3,4,5,6])\n",
    "a_2 = np.array([1,9,8,7,6])\n",
    "new = np.concatenate((a_1,a_2))\n",
    "print(new)"
   ]
  },
  {
   "cell_type": "code",
   "execution_count": 58,
   "id": "d849d8c1",
   "metadata": {},
   "outputs": [
    {
     "name": "stdout",
     "output_type": "stream",
     "text": [
      "[[2 3]\n",
      " [4 5]\n",
      " [1 9]\n",
      " [7 6]]\n"
     ]
    }
   ],
   "source": [
    "ar_1  = np.array([[2,3],[4,5]])\n",
    "ar_2 = np.array([[1,9],[7,6]])\n",
    "new_1 = np.concatenate((ar_1,ar_2),axis = 1)\n",
    "new_1 = np.concatenate((ar_1,ar_2),axis = 0)\n",
    "\n",
    "print(new_1)"
   ]
  },
  {
   "cell_type": "code",
   "execution_count": 59,
   "id": "ac8384b0",
   "metadata": {
    "scrolled": true
   },
   "outputs": [
    {
     "name": "stdout",
     "output_type": "stream",
     "text": [
      "[[2 3 4 5]\n",
      " [1 9 7 6]]\n",
      "\n",
      "[2 3 4 5 1 9 7 6]\n",
      "\n",
      "[[2 3 4 5]\n",
      " [1 9 7 6]]\n",
      "\n",
      "[[[2 1]\n",
      "  [3 9]\n",
      "  [4 7]\n",
      "  [5 6]]]\n"
     ]
    }
   ],
   "source": [
    "ar_1  = np.array([2,3,4,5])\n",
    "ar_2 = np.array([1,9,7,6])\n",
    "new_1 = np.stack((ar_1,ar_2),axis = 0)\n",
    "new_2 = np.hstack((ar_1,ar_2))\n",
    "new_3 = np.vstack((ar_1,ar_2))\n",
    "new_4 = np.dstack((ar_1,ar_2))\n",
    "print(new_1)\n",
    "print()\n",
    "print(new_2)\n",
    "print()\n",
    "print(new_3)\n",
    "print()\n",
    "print(new_4)"
   ]
  },
  {
   "cell_type": "markdown",
   "id": "c9dfd0ca",
   "metadata": {},
   "source": [
    "# Split"
   ]
  },
  {
   "cell_type": "code",
   "execution_count": 76,
   "id": "e70eddd0",
   "metadata": {},
   "outputs": [
    {
     "name": "stdout",
     "output_type": "stream",
     "text": [
      "[array([2, 3, 4]), array([5, 6, 7]), array([8, 9, 8])]\n"
     ]
    }
   ],
   "source": [
    "var_1 = np.array([2,3,4,5,6,7,8,9,8])\n",
    "var_2 = np.array_split(var_1,3)\n",
    "print(var_2)"
   ]
  },
  {
   "cell_type": "code",
   "execution_count": 78,
   "id": "71d33d7f",
   "metadata": {},
   "outputs": [
    {
     "name": "stdout",
     "output_type": "stream",
     "text": [
      "[array([[2, 3]]), array([[5, 6]]), array([[8, 9]])]\n"
     ]
    }
   ],
   "source": [
    "var_3 = np.array([[2,3],[5,6],[8,9]])\n",
    "var_4 = np.array_split(var_3,3)\n",
    "print(var_4)"
   ]
  },
  {
   "cell_type": "markdown",
   "id": "04f1c5fa",
   "metadata": {},
   "source": [
    "# Search Array"
   ]
  },
  {
   "cell_type": "code",
   "execution_count": 82,
   "id": "bf4923e8",
   "metadata": {},
   "outputs": [
    {
     "name": "stdout",
     "output_type": "stream",
     "text": [
      "(array([ 0,  7, 10, 13], dtype=int64),)\n"
     ]
    }
   ],
   "source": [
    "#Search sorted array: Which performs a binary search in the array,\n",
    "#and returns the index where the specifiednvalue would be inserted\n",
    "#to maintain the search order\n",
    "zam = np.array([2,3,4,52,6,7,5,2,44,33,2,4,3,2])\n",
    "eer = np.where(zam==2)\n",
    "\n",
    "print(eer)"
   ]
  },
  {
   "cell_type": "code",
   "execution_count": 88,
   "id": "6a4cb82a",
   "metadata": {},
   "outputs": [
    {
     "name": "stdout",
     "output_type": "stream",
     "text": [
      "4\n"
     ]
    }
   ],
   "source": [
    "eerz = np.array([2,3,4,5,7,8])\n",
    "zame = np.searchsorted(eerz,6,side = \"right\")\n",
    "print(zame)"
   ]
  },
  {
   "cell_type": "code",
   "execution_count": 89,
   "id": "ab18db31",
   "metadata": {},
   "outputs": [
    {
     "name": "stdout",
     "output_type": "stream",
     "text": [
      "[4 5 6 6 6]\n"
     ]
    }
   ],
   "source": [
    "eerz = np.array([2,3,4,5,7,8])\n",
    "zame = np.searchsorted(eerz,[6,7,8,9,8,],side = \"right\")\n",
    "print(zame)"
   ]
  },
  {
   "cell_type": "code",
   "execution_count": 92,
   "id": "82d25ae3",
   "metadata": {},
   "outputs": [
    {
     "name": "stdout",
     "output_type": "stream",
     "text": [
      "[  2   3   5   7  33 234 342 434]\n",
      "['a' 'b' 'c' 'd' 'r' 'w']\n"
     ]
    }
   ],
   "source": [
    "#Sorted Array:Ordered sequence is any sequence that has an order corresponding to elements,\n",
    "#like numeric or alphabetical,asending or decending.\n",
    "a = np.array([2,5,3,7,434,33,342,234])\n",
    "print(np.sort(a))\n",
    "x = np.array(['w','r','a','b','d','c'])\n",
    "print(np.sort(x))"
   ]
  },
  {
   "cell_type": "code",
   "execution_count": 93,
   "id": "ce102ce6",
   "metadata": {},
   "outputs": [
    {
     "name": "stdout",
     "output_type": "stream",
     "text": [
      "['w' 'a' 'b' 'c']\n"
     ]
    }
   ],
   "source": [
    "#Filter Array: Getting some elements out of an existing array\n",
    "#and creating a new array out of them\n",
    "y = np.array(['w','r','a','b','d','c'])\n",
    "z = [True,False,True,True,False,True]\n",
    "new = y[z]\n",
    "print(new)"
   ]
  },
  {
   "cell_type": "code",
   "execution_count": 94,
   "id": "bb34cb56",
   "metadata": {},
   "outputs": [],
   "source": [
    "#Shuffle\n",
    "#unique \n",
    "#Resize\n",
    "#Flatten\n",
    "#Ravel"
   ]
  },
  {
   "cell_type": "code",
   "execution_count": 102,
   "id": "3e8cc1db",
   "metadata": {},
   "outputs": [
    {
     "name": "stdout",
     "output_type": "stream",
     "text": [
      "[  3   5  43   4   4   2 632]\n"
     ]
    }
   ],
   "source": [
    "var2  = np.array([2,4,3,5,4,632,43])\n",
    "np.random.shuffle(var2)\n",
    "print(var2)"
   ]
  },
  {
   "cell_type": "code",
   "execution_count": 111,
   "id": "8c88e0b3",
   "metadata": {},
   "outputs": [
    {
     "name": "stdout",
     "output_type": "stream",
     "text": [
      "(array([  2,   3,   4,   5,  43, 632]), array([0, 3, 1, 4, 7, 6], dtype=int64), array([1, 1, 3, 1, 1, 1], dtype=int64))\n"
     ]
    }
   ],
   "source": [
    "var2  = np.array([2,4,4,3,5,4,632,43])\n",
    "var23 = np.unique(var2,return_index= True,return_counts= True)\n",
    "print(var23)"
   ]
  },
  {
   "cell_type": "code",
   "execution_count": 126,
   "id": "dfa349d4",
   "metadata": {},
   "outputs": [
    {
     "name": "stdout",
     "output_type": "stream",
     "text": [
      "[[  2   4   4   3]\n",
      " [  5   4 632  43]] \n",
      "\n",
      "[[  2   4   4   3]\n",
      " [  5   4 632  43]]\n",
      "[  4 632]\n",
      "[  2   4   4   3   5   4 632  43]\n",
      "[  2   4   4   3   5   4 632  43]\n"
     ]
    }
   ],
   "source": [
    "var21  = np.array([[2,4,4,3],[5,4,632,43]])\n",
    "var3 = np.resize(var21,(2,4))\n",
    "print(var21,\"\\n\")\n",
    "print(var3)\n",
    "print(var3.flatten(order = \"K\"))\n",
    "print(np.ravel(var21,order = \"C\"))"
   ]
  },
  {
   "cell_type": "markdown",
   "id": "15829d99",
   "metadata": {},
   "source": [
    "# Insert"
   ]
  },
  {
   "cell_type": "code",
   "execution_count": 129,
   "id": "2226c0cc",
   "metadata": {},
   "outputs": [
    {
     "data": {
      "text/plain": [
       "array([2, 3, 8, 4, 5, 6, 7])"
      ]
     },
     "execution_count": 129,
     "metadata": {},
     "output_type": "execute_result"
    }
   ],
   "source": [
    "zam = np.array([2,3,4,5,6,7])\n",
    "np.insert(zam,2,8)"
   ]
  },
  {
   "cell_type": "code",
   "execution_count": 141,
   "id": "fb247b2e",
   "metadata": {},
   "outputs": [
    {
     "name": "stdout",
     "output_type": "stream",
     "text": [
      "[[2 3 9 4]\n",
      " [5 6 8 7]]\n"
     ]
    }
   ],
   "source": [
    "za_ = np.array([[2,3,4],[5,6,7]])\n",
    "er_ = np.insert(za_,2,[9,8],axis = 1)\n",
    "print(er_)"
   ]
  },
  {
   "cell_type": "code",
   "execution_count": 148,
   "id": "1b6bdd5f",
   "metadata": {},
   "outputs": [
    {
     "name": "stdout",
     "output_type": "stream",
     "text": [
      "[2.  3.  4.  5.  6.  5.8]\n"
     ]
    }
   ],
   "source": [
    "he = np.array([2,3,4,5,6])\n",
    "el = np.append(he,5.8)\n",
    "print(el)"
   ]
  },
  {
   "cell_type": "code",
   "execution_count": 151,
   "id": "903d14b3",
   "metadata": {},
   "outputs": [
    {
     "name": "stdout",
     "output_type": "stream",
     "text": [
      "[[2 3 4]\n",
      " [5 6 7]\n",
      " [2 3 4]]\n"
     ]
    }
   ],
   "source": [
    "za_m = np.array([[2,3,4],[5,6,7]])\n",
    "me = np.append(za_m,[[2,3,4]],axis = 0)\n",
    "print(me)"
   ]
  },
  {
   "cell_type": "markdown",
   "id": "c1383821",
   "metadata": {},
   "source": [
    "# Matrix"
   ]
  },
  {
   "cell_type": "code",
   "execution_count": 158,
   "id": "91138b9d",
   "metadata": {},
   "outputs": [
    {
     "name": "stdout",
     "output_type": "stream",
     "text": [
      "[[ 7  9 11 13]]\n",
      "[[-3 -3 -3 -3]]\n",
      "[[2 3 4 5]]\n",
      "<class 'numpy.matrix'>\n"
     ]
    }
   ],
   "source": [
    "a = np.matrix([2,3,4,5])\n",
    "b = np.matrix([5,6,7,8])\n",
    "print(a+b)\n",
    "print(a-b)\n",
    "# print(a*b)\n",
    "print(a)\n",
    "print(type(a))"
   ]
  },
  {
   "cell_type": "code",
   "execution_count": 162,
   "id": "37240d24",
   "metadata": {},
   "outputs": [
    {
     "name": "stdout",
     "output_type": "stream",
     "text": [
      "[[ 39  48  57]\n",
      " [ 75  93 111]\n",
      " [ 75  93 111]]\n",
      "\n",
      "[[ 39  48  57]\n",
      " [ 75  93 111]\n",
      " [ 75  93 111]]\n"
     ]
    }
   ],
   "source": [
    "z = np.matrix([[2,3,4],[5,6,7],[5,6,7]])\n",
    "d = np.matrix([[2,3,4],[5,6,7],[5,6,7]])\n",
    "print(z.dot(d))\n",
    "print()\n",
    "print(z*d)"
   ]
  },
  {
   "cell_type": "markdown",
   "id": "cfded4a9",
   "metadata": {},
   "source": [
    "# Functions"
   ]
  },
  {
   "cell_type": "code",
   "execution_count": 164,
   "id": "62b4f735",
   "metadata": {},
   "outputs": [
    {
     "name": "stdout",
     "output_type": "stream",
     "text": [
      "[[2 3]\n",
      " [4 5]]\n",
      "\n",
      "[[2 4]\n",
      " [3 5]]\n"
     ]
    }
   ],
   "source": [
    "#Transpose\n",
    "#Swapaxes\n",
    "#Inverse\n",
    "#Power\n",
    "#Determinate\n",
    "var19 = np.matrix([[2,3],[4,5]])\n",
    "print(var19)\n",
    "print()\n",
    "print(np.transpose(var19))\n"
   ]
  },
  {
   "cell_type": "code",
   "execution_count": 166,
   "id": "9d286a04",
   "metadata": {},
   "outputs": [
    {
     "name": "stdout",
     "output_type": "stream",
     "text": [
      "[[2 4]\n",
      " [3 5]]\n"
     ]
    }
   ],
   "source": [
    "var20 = np.matrix([[2,3],[4,5]])\n",
    "print(np.swapaxes(var20,0,1))#matrix , and 0,1 is convert  0 axis to 1 axis"
   ]
  },
  {
   "cell_type": "code",
   "execution_count": 167,
   "id": "3e5657bd",
   "metadata": {},
   "outputs": [
    {
     "name": "stdout",
     "output_type": "stream",
     "text": [
      "[[-2.5  1.5]\n",
      " [ 2.  -1. ]]\n"
     ]
    }
   ],
   "source": [
    "var21 = np.matrix([[2,3],[4,5]])\n",
    "print(np.linalg.inv(var21))"
   ]
  },
  {
   "cell_type": "code",
   "execution_count": 171,
   "id": "afd4d8a9",
   "metadata": {},
   "outputs": [
    {
     "name": "stdout",
     "output_type": "stream",
     "text": [
      "[[116 153]\n",
      " [204 269]]\n"
     ]
    }
   ],
   "source": [
    "var21 = np.matrix([[2,3],[4,5]])\n",
    "print(np.linalg.matrix_power(var21,3))"
   ]
  },
  {
   "cell_type": "code",
   "execution_count": 172,
   "id": "920a2964",
   "metadata": {},
   "outputs": [
    {
     "name": "stdout",
     "output_type": "stream",
     "text": [
      "-2.0\n"
     ]
    }
   ],
   "source": [
    "var22 = np.matrix([[2,3],[4,5]])\n",
    "print(np.linalg.det(var22))"
   ]
  },
  {
   "cell_type": "code",
   "execution_count": null,
   "id": "b9e687fe",
   "metadata": {},
   "outputs": [],
   "source": []
  }
 ],
 "metadata": {
  "kernelspec": {
   "display_name": "Python 3 (ipykernel)",
   "language": "python",
   "name": "python3"
  },
  "language_info": {
   "codemirror_mode": {
    "name": "ipython",
    "version": 3
   },
   "file_extension": ".py",
   "mimetype": "text/x-python",
   "name": "python",
   "nbconvert_exporter": "python",
   "pygments_lexer": "ipython3",
   "version": "3.11.5"
  }
 },
 "nbformat": 4,
 "nbformat_minor": 5
}
